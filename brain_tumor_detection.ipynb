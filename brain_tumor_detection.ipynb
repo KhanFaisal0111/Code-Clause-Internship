{
 "cells": [
  {
   "cell_type": "markdown",
   "metadata": {
    "execution": {
     "iopub.execute_input": "2022-05-12T12:45:21.652755Z",
     "iopub.status.busy": "2022-05-12T12:45:21.652157Z",
     "iopub.status.idle": "2022-05-12T12:45:21.6879Z",
     "shell.execute_reply": "2022-05-12T12:45:21.68655Z",
     "shell.execute_reply.started": "2022-05-12T12:45:21.652638Z"
    }
   },
   "source": [
    "# What is brain tumor?\n",
    "A brain tumor is a growth of abnormal cells in the brain. The anatomy of the brain is very \n",
    "complex, with different parts responsible for different nervous system. Brain Tumor can \n",
    "develop in any part of the brain or skull, including its protective lining, the underside of the brain(skull base), the brainstem, the sinuses and the nasal cavity, and many other areas.\n",
    "\n",
    "Brain tumors can be cancerous(malignant) or noncancerous(benign).When benign or malignant \n",
    "tumors grow, they can cause the pressure inside skull to increase. This can cause brain damage, and it can be life-threating.\n",
    "\n",
    "However, Early detection and classification of brain tumors is an important research domain in the field of medical imaging and accordingly helps in selecting the most convenient treatment method to save patient life.\n"
   ]
  },
  {
   "cell_type": "markdown",
   "metadata": {},
   "source": [
    "# Import Libraries"
   ]
  },
  {
   "cell_type": "code",
   "execution_count": 1,
   "metadata": {
    "execution": {
     "iopub.execute_input": "2022-05-12T13:01:49.97962Z",
     "iopub.status.busy": "2022-05-12T13:01:49.97924Z",
     "iopub.status.idle": "2022-05-12T13:01:50.501065Z",
     "shell.execute_reply": "2022-05-12T13:01:50.500185Z",
     "shell.execute_reply.started": "2022-05-12T13:01:49.979528Z"
    }
   },
   "outputs": [],
   "source": [
    "import pandas as pd\n",
    "import numpy as np\n",
    "import matplotlib.pyplot as plt\n",
    "import seaborn as sns"
   ]
  },
  {
   "cell_type": "markdown",
   "metadata": {},
   "source": [
    "# Load Dataset"
   ]
  },
  {
   "cell_type": "code",
   "execution_count": 2,
   "metadata": {
    "execution": {
     "iopub.execute_input": "2022-05-12T13:01:50.503322Z",
     "iopub.status.busy": "2022-05-12T13:01:50.503001Z",
     "iopub.status.idle": "2022-05-12T13:01:50.828871Z",
     "shell.execute_reply": "2022-05-12T13:01:50.827903Z",
     "shell.execute_reply.started": "2022-05-12T13:01:50.503278Z"
    }
   },
   "outputs": [],
   "source": [
    "df= pd.read_csv('data.csv')"
   ]
  },
  {
   "cell_type": "code",
   "execution_count": 3,
   "metadata": {
    "execution": {
     "iopub.execute_input": "2022-05-12T13:01:50.831026Z",
     "iopub.status.busy": "2022-05-12T13:01:50.830606Z",
     "iopub.status.idle": "2022-05-12T13:01:50.859425Z",
     "shell.execute_reply": "2022-05-12T13:01:50.858355Z",
     "shell.execute_reply.started": "2022-05-12T13:01:50.83099Z"
    }
   },
   "outputs": [
    {
     "data": {
      "text/html": [
       "<div>\n",
       "<style scoped>\n",
       "    .dataframe tbody tr th:only-of-type {\n",
       "        vertical-align: middle;\n",
       "    }\n",
       "\n",
       "    .dataframe tbody tr th {\n",
       "        vertical-align: top;\n",
       "    }\n",
       "\n",
       "    .dataframe thead th {\n",
       "        text-align: right;\n",
       "    }\n",
       "</style>\n",
       "<table border=\"1\" class=\"dataframe\">\n",
       "  <thead>\n",
       "    <tr style=\"text-align: right;\">\n",
       "      <th></th>\n",
       "      <th>Unnamed: 0</th>\n",
       "      <th>X53416</th>\n",
       "      <th>M83670</th>\n",
       "      <th>X90908</th>\n",
       "      <th>M97496</th>\n",
       "      <th>X90908.1</th>\n",
       "      <th>U37019</th>\n",
       "      <th>R48602</th>\n",
       "      <th>T96548</th>\n",
       "      <th>X64559</th>\n",
       "      <th>...</th>\n",
       "      <th>H87456</th>\n",
       "      <th>R64130</th>\n",
       "      <th>H11125.1</th>\n",
       "      <th>U22055</th>\n",
       "      <th>L22524</th>\n",
       "      <th>M13699.1</th>\n",
       "      <th>X54489</th>\n",
       "      <th>T55008</th>\n",
       "      <th>M10065.2</th>\n",
       "      <th>y</th>\n",
       "    </tr>\n",
       "  </thead>\n",
       "  <tbody>\n",
       "    <tr>\n",
       "      <th>0</th>\n",
       "      <td>0</td>\n",
       "      <td>70</td>\n",
       "      <td>-81</td>\n",
       "      <td>25</td>\n",
       "      <td>10</td>\n",
       "      <td>22</td>\n",
       "      <td>113</td>\n",
       "      <td>36</td>\n",
       "      <td>163</td>\n",
       "      <td>9</td>\n",
       "      <td>...</td>\n",
       "      <td>75</td>\n",
       "      <td>5</td>\n",
       "      <td>68</td>\n",
       "      <td>138</td>\n",
       "      <td>53</td>\n",
       "      <td>-4</td>\n",
       "      <td>123</td>\n",
       "      <td>2</td>\n",
       "      <td>19</td>\n",
       "      <td>tumor</td>\n",
       "    </tr>\n",
       "    <tr>\n",
       "      <th>1</th>\n",
       "      <td>1</td>\n",
       "      <td>108</td>\n",
       "      <td>-30</td>\n",
       "      <td>-7</td>\n",
       "      <td>60</td>\n",
       "      <td>0</td>\n",
       "      <td>24</td>\n",
       "      <td>8</td>\n",
       "      <td>113</td>\n",
       "      <td>-3</td>\n",
       "      <td>...</td>\n",
       "      <td>186</td>\n",
       "      <td>6</td>\n",
       "      <td>60</td>\n",
       "      <td>93</td>\n",
       "      <td>140</td>\n",
       "      <td>-3</td>\n",
       "      <td>271</td>\n",
       "      <td>-1</td>\n",
       "      <td>-51</td>\n",
       "      <td>tumor</td>\n",
       "    </tr>\n",
       "    <tr>\n",
       "      <th>2</th>\n",
       "      <td>2</td>\n",
       "      <td>75</td>\n",
       "      <td>-1</td>\n",
       "      <td>5</td>\n",
       "      <td>48</td>\n",
       "      <td>6</td>\n",
       "      <td>34</td>\n",
       "      <td>27</td>\n",
       "      <td>35</td>\n",
       "      <td>-1</td>\n",
       "      <td>...</td>\n",
       "      <td>186</td>\n",
       "      <td>225</td>\n",
       "      <td>94</td>\n",
       "      <td>62</td>\n",
       "      <td>39</td>\n",
       "      <td>-14</td>\n",
       "      <td>127</td>\n",
       "      <td>7</td>\n",
       "      <td>192</td>\n",
       "      <td>tumor</td>\n",
       "    </tr>\n",
       "    <tr>\n",
       "      <th>3</th>\n",
       "      <td>3</td>\n",
       "      <td>871</td>\n",
       "      <td>4</td>\n",
       "      <td>14</td>\n",
       "      <td>78</td>\n",
       "      <td>-6</td>\n",
       "      <td>85</td>\n",
       "      <td>65</td>\n",
       "      <td>227</td>\n",
       "      <td>19</td>\n",
       "      <td>...</td>\n",
       "      <td>77</td>\n",
       "      <td>6</td>\n",
       "      <td>78</td>\n",
       "      <td>30</td>\n",
       "      <td>87</td>\n",
       "      <td>-4</td>\n",
       "      <td>59</td>\n",
       "      <td>3</td>\n",
       "      <td>367</td>\n",
       "      <td>tumor</td>\n",
       "    </tr>\n",
       "    <tr>\n",
       "      <th>4</th>\n",
       "      <td>4</td>\n",
       "      <td>-92</td>\n",
       "      <td>-34</td>\n",
       "      <td>14</td>\n",
       "      <td>19</td>\n",
       "      <td>11</td>\n",
       "      <td>-6</td>\n",
       "      <td>27</td>\n",
       "      <td>-8</td>\n",
       "      <td>9</td>\n",
       "      <td>...</td>\n",
       "      <td>87</td>\n",
       "      <td>303</td>\n",
       "      <td>204</td>\n",
       "      <td>81</td>\n",
       "      <td>105</td>\n",
       "      <td>9</td>\n",
       "      <td>265</td>\n",
       "      <td>-2</td>\n",
       "      <td>126</td>\n",
       "      <td>tumor</td>\n",
       "    </tr>\n",
       "  </tbody>\n",
       "</table>\n",
       "<p>5 rows × 7466 columns</p>\n",
       "</div>"
      ],
      "text/plain": [
       "   Unnamed: 0  X53416  M83670  X90908  M97496  X90908.1  U37019  R48602  \\\n",
       "0           0      70     -81      25      10        22     113      36   \n",
       "1           1     108     -30      -7      60         0      24       8   \n",
       "2           2      75      -1       5      48         6      34      27   \n",
       "3           3     871       4      14      78        -6      85      65   \n",
       "4           4     -92     -34      14      19        11      -6      27   \n",
       "\n",
       "   T96548  X64559  ...  H87456  R64130  H11125.1  U22055  L22524  M13699.1  \\\n",
       "0     163       9  ...      75       5        68     138      53        -4   \n",
       "1     113      -3  ...     186       6        60      93     140        -3   \n",
       "2      35      -1  ...     186     225        94      62      39       -14   \n",
       "3     227      19  ...      77       6        78      30      87        -4   \n",
       "4      -8       9  ...      87     303       204      81     105         9   \n",
       "\n",
       "   X54489  T55008  M10065.2      y  \n",
       "0     123       2        19  tumor  \n",
       "1     271      -1       -51  tumor  \n",
       "2     127       7       192  tumor  \n",
       "3      59       3       367  tumor  \n",
       "4     265      -2       126  tumor  \n",
       "\n",
       "[5 rows x 7466 columns]"
      ]
     },
     "execution_count": 3,
     "metadata": {},
     "output_type": "execute_result"
    }
   ],
   "source": [
    "df.head()"
   ]
  },
  {
   "cell_type": "code",
   "execution_count": 4,
   "metadata": {
    "execution": {
     "iopub.execute_input": "2022-05-12T13:01:50.862375Z",
     "iopub.status.busy": "2022-05-12T13:01:50.862017Z",
     "iopub.status.idle": "2022-05-12T13:01:50.883504Z",
     "shell.execute_reply": "2022-05-12T13:01:50.882722Z",
     "shell.execute_reply.started": "2022-05-12T13:01:50.862328Z"
    }
   },
   "outputs": [
    {
     "data": {
      "text/html": [
       "<div>\n",
       "<style scoped>\n",
       "    .dataframe tbody tr th:only-of-type {\n",
       "        vertical-align: middle;\n",
       "    }\n",
       "\n",
       "    .dataframe tbody tr th {\n",
       "        vertical-align: top;\n",
       "    }\n",
       "\n",
       "    .dataframe thead th {\n",
       "        text-align: right;\n",
       "    }\n",
       "</style>\n",
       "<table border=\"1\" class=\"dataframe\">\n",
       "  <thead>\n",
       "    <tr style=\"text-align: right;\">\n",
       "      <th></th>\n",
       "      <th>Unnamed: 0</th>\n",
       "      <th>X53416</th>\n",
       "      <th>M83670</th>\n",
       "      <th>X90908</th>\n",
       "      <th>M97496</th>\n",
       "      <th>X90908.1</th>\n",
       "      <th>U37019</th>\n",
       "      <th>R48602</th>\n",
       "      <th>T96548</th>\n",
       "      <th>X64559</th>\n",
       "      <th>...</th>\n",
       "      <th>H87456</th>\n",
       "      <th>R64130</th>\n",
       "      <th>H11125.1</th>\n",
       "      <th>U22055</th>\n",
       "      <th>L22524</th>\n",
       "      <th>M13699.1</th>\n",
       "      <th>X54489</th>\n",
       "      <th>T55008</th>\n",
       "      <th>M10065.2</th>\n",
       "      <th>y</th>\n",
       "    </tr>\n",
       "  </thead>\n",
       "  <tbody>\n",
       "    <tr>\n",
       "      <th>31</th>\n",
       "      <td>31</td>\n",
       "      <td>488</td>\n",
       "      <td>564</td>\n",
       "      <td>-29</td>\n",
       "      <td>1303</td>\n",
       "      <td>-9</td>\n",
       "      <td>1236</td>\n",
       "      <td>265</td>\n",
       "      <td>2203</td>\n",
       "      <td>41</td>\n",
       "      <td>...</td>\n",
       "      <td>16</td>\n",
       "      <td>0</td>\n",
       "      <td>109</td>\n",
       "      <td>21</td>\n",
       "      <td>6</td>\n",
       "      <td>-15</td>\n",
       "      <td>11</td>\n",
       "      <td>7</td>\n",
       "      <td>-145</td>\n",
       "      <td>Normal</td>\n",
       "    </tr>\n",
       "    <tr>\n",
       "      <th>32</th>\n",
       "      <td>32</td>\n",
       "      <td>164</td>\n",
       "      <td>330</td>\n",
       "      <td>-13</td>\n",
       "      <td>721</td>\n",
       "      <td>12</td>\n",
       "      <td>504</td>\n",
       "      <td>154</td>\n",
       "      <td>1381</td>\n",
       "      <td>78</td>\n",
       "      <td>...</td>\n",
       "      <td>-18</td>\n",
       "      <td>1</td>\n",
       "      <td>-1484</td>\n",
       "      <td>-4</td>\n",
       "      <td>-1</td>\n",
       "      <td>-1</td>\n",
       "      <td>3</td>\n",
       "      <td>-5</td>\n",
       "      <td>-63</td>\n",
       "      <td>Normal</td>\n",
       "    </tr>\n",
       "    <tr>\n",
       "      <th>33</th>\n",
       "      <td>33</td>\n",
       "      <td>1282</td>\n",
       "      <td>116</td>\n",
       "      <td>-4</td>\n",
       "      <td>542</td>\n",
       "      <td>0</td>\n",
       "      <td>1070</td>\n",
       "      <td>344</td>\n",
       "      <td>1903</td>\n",
       "      <td>42</td>\n",
       "      <td>...</td>\n",
       "      <td>5</td>\n",
       "      <td>3</td>\n",
       "      <td>128</td>\n",
       "      <td>25</td>\n",
       "      <td>2</td>\n",
       "      <td>0</td>\n",
       "      <td>7</td>\n",
       "      <td>3</td>\n",
       "      <td>-69</td>\n",
       "      <td>Normal</td>\n",
       "    </tr>\n",
       "    <tr>\n",
       "      <th>34</th>\n",
       "      <td>34</td>\n",
       "      <td>68</td>\n",
       "      <td>718</td>\n",
       "      <td>-50</td>\n",
       "      <td>1816</td>\n",
       "      <td>-28</td>\n",
       "      <td>251</td>\n",
       "      <td>38</td>\n",
       "      <td>598</td>\n",
       "      <td>73</td>\n",
       "      <td>...</td>\n",
       "      <td>47</td>\n",
       "      <td>-2</td>\n",
       "      <td>190</td>\n",
       "      <td>3</td>\n",
       "      <td>0</td>\n",
       "      <td>8</td>\n",
       "      <td>21</td>\n",
       "      <td>22</td>\n",
       "      <td>-214</td>\n",
       "      <td>Normal</td>\n",
       "    </tr>\n",
       "    <tr>\n",
       "      <th>35</th>\n",
       "      <td>35</td>\n",
       "      <td>928</td>\n",
       "      <td>332</td>\n",
       "      <td>4</td>\n",
       "      <td>412</td>\n",
       "      <td>0</td>\n",
       "      <td>681</td>\n",
       "      <td>267</td>\n",
       "      <td>1132</td>\n",
       "      <td>357</td>\n",
       "      <td>...</td>\n",
       "      <td>9</td>\n",
       "      <td>1</td>\n",
       "      <td>67</td>\n",
       "      <td>19</td>\n",
       "      <td>10</td>\n",
       "      <td>1</td>\n",
       "      <td>32</td>\n",
       "      <td>-5</td>\n",
       "      <td>72</td>\n",
       "      <td>Normal</td>\n",
       "    </tr>\n",
       "  </tbody>\n",
       "</table>\n",
       "<p>5 rows × 7466 columns</p>\n",
       "</div>"
      ],
      "text/plain": [
       "    Unnamed: 0  X53416  M83670  X90908  M97496  X90908.1  U37019  R48602  \\\n",
       "31          31     488     564     -29    1303        -9    1236     265   \n",
       "32          32     164     330     -13     721        12     504     154   \n",
       "33          33    1282     116      -4     542         0    1070     344   \n",
       "34          34      68     718     -50    1816       -28     251      38   \n",
       "35          35     928     332       4     412         0     681     267   \n",
       "\n",
       "    T96548  X64559  ...  H87456  R64130  H11125.1  U22055  L22524  M13699.1  \\\n",
       "31    2203      41  ...      16       0       109      21       6       -15   \n",
       "32    1381      78  ...     -18       1     -1484      -4      -1        -1   \n",
       "33    1903      42  ...       5       3       128      25       2         0   \n",
       "34     598      73  ...      47      -2       190       3       0         8   \n",
       "35    1132     357  ...       9       1        67      19      10         1   \n",
       "\n",
       "    X54489  T55008  M10065.2       y  \n",
       "31      11       7      -145  Normal  \n",
       "32       3      -5       -63  Normal  \n",
       "33       7       3       -69  Normal  \n",
       "34      21      22      -214  Normal  \n",
       "35      32      -5        72  Normal  \n",
       "\n",
       "[5 rows x 7466 columns]"
      ]
     },
     "execution_count": 4,
     "metadata": {},
     "output_type": "execute_result"
    }
   ],
   "source": [
    "df.tail()"
   ]
  },
  {
   "cell_type": "code",
   "execution_count": 5,
   "metadata": {
    "execution": {
     "iopub.execute_input": "2022-05-12T13:01:50.885376Z",
     "iopub.status.busy": "2022-05-12T13:01:50.884887Z",
     "iopub.status.idle": "2022-05-12T13:01:51.365924Z",
     "shell.execute_reply": "2022-05-12T13:01:51.364884Z",
     "shell.execute_reply.started": "2022-05-12T13:01:50.885324Z"
    }
   },
   "outputs": [
    {
     "name": "stdout",
     "output_type": "stream",
     "text": [
      "<class 'pandas.core.frame.DataFrame'>\n",
      "RangeIndex: 36 entries, 0 to 35\n",
      "Columns: 7466 entries, Unnamed: 0 to y\n",
      "dtypes: int64(7465), object(1)\n",
      "memory usage: 2.1+ MB\n"
     ]
    }
   ],
   "source": [
    "df.info()"
   ]
  },
  {
   "cell_type": "code",
   "execution_count": 6,
   "metadata": {
    "execution": {
     "iopub.execute_input": "2022-05-12T13:01:51.369054Z",
     "iopub.status.busy": "2022-05-12T13:01:51.368413Z",
     "iopub.status.idle": "2022-05-12T13:01:51.406791Z",
     "shell.execute_reply": "2022-05-12T13:01:51.405883Z",
     "shell.execute_reply.started": "2022-05-12T13:01:51.369007Z"
    }
   },
   "outputs": [
    {
     "data": {
      "text/plain": [
       "Unnamed: 0    0\n",
       "X53416        0\n",
       "M83670        0\n",
       "X90908        0\n",
       "M97496        0\n",
       "             ..\n",
       "M13699.1      0\n",
       "X54489        0\n",
       "T55008        0\n",
       "M10065.2      0\n",
       "y             0\n",
       "Length: 7466, dtype: int64"
      ]
     },
     "execution_count": 6,
     "metadata": {},
     "output_type": "execute_result"
    }
   ],
   "source": [
    "df.isnull().sum()"
   ]
  },
  {
   "cell_type": "markdown",
   "metadata": {},
   "source": [
    "# Drop Unnamed Column"
   ]
  },
  {
   "cell_type": "code",
   "execution_count": 7,
   "metadata": {
    "execution": {
     "iopub.execute_input": "2022-05-12T13:01:51.40869Z",
     "iopub.status.busy": "2022-05-12T13:01:51.408406Z",
     "iopub.status.idle": "2022-05-12T13:01:51.422666Z",
     "shell.execute_reply": "2022-05-12T13:01:51.421954Z",
     "shell.execute_reply.started": "2022-05-12T13:01:51.408651Z"
    }
   },
   "outputs": [],
   "source": [
    "df.drop(columns=['Unnamed: 0'],axis=1,inplace=True)"
   ]
  },
  {
   "cell_type": "code",
   "execution_count": 8,
   "metadata": {
    "execution": {
     "iopub.execute_input": "2022-05-12T13:01:51.42444Z",
     "iopub.status.busy": "2022-05-12T13:01:51.424008Z",
     "iopub.status.idle": "2022-05-12T13:01:51.438596Z",
     "shell.execute_reply": "2022-05-12T13:01:51.437959Z",
     "shell.execute_reply.started": "2022-05-12T13:01:51.424396Z"
    }
   },
   "outputs": [
    {
     "data": {
      "text/plain": [
       "Index(['X53416', 'M83670', 'X90908', 'M97496', 'X90908.1', 'U37019', 'R48602',\n",
       "       'T96548', 'X64559', 'T55741',\n",
       "       ...\n",
       "       'H87456', 'R64130', 'H11125.1', 'U22055', 'L22524', 'M13699.1',\n",
       "       'X54489', 'T55008', 'M10065.2', 'y'],\n",
       "      dtype='object', length=7465)"
      ]
     },
     "execution_count": 8,
     "metadata": {},
     "output_type": "execute_result"
    }
   ],
   "source": [
    "df.columns"
   ]
  },
  {
   "cell_type": "markdown",
   "metadata": {},
   "source": [
    "# Check Unique Values in data"
   ]
  },
  {
   "cell_type": "code",
   "execution_count": 9,
   "metadata": {
    "execution": {
     "iopub.execute_input": "2022-05-12T13:01:51.440496Z",
     "iopub.status.busy": "2022-05-12T13:01:51.43971Z",
     "iopub.status.idle": "2022-05-12T13:01:51.452766Z",
     "shell.execute_reply": "2022-05-12T13:01:51.452159Z",
     "shell.execute_reply.started": "2022-05-12T13:01:51.440461Z"
    }
   },
   "outputs": [
    {
     "data": {
      "text/plain": [
       "array(['tumor', 'Normal'], dtype=object)"
      ]
     },
     "execution_count": 9,
     "metadata": {},
     "output_type": "execute_result"
    }
   ],
   "source": [
    "df['y'].unique()"
   ]
  },
  {
   "cell_type": "markdown",
   "metadata": {},
   "source": [
    "# Statistical Information of data"
   ]
  },
  {
   "cell_type": "code",
   "execution_count": 10,
   "metadata": {
    "execution": {
     "iopub.execute_input": "2022-05-12T13:01:51.456101Z",
     "iopub.status.busy": "2022-05-12T13:01:51.455242Z",
     "iopub.status.idle": "2022-05-12T13:02:05.057451Z",
     "shell.execute_reply": "2022-05-12T13:02:05.056649Z",
     "shell.execute_reply.started": "2022-05-12T13:01:51.456004Z"
    }
   },
   "outputs": [
    {
     "data": {
      "text/html": [
       "<div>\n",
       "<style scoped>\n",
       "    .dataframe tbody tr th:only-of-type {\n",
       "        vertical-align: middle;\n",
       "    }\n",
       "\n",
       "    .dataframe tbody tr th {\n",
       "        vertical-align: top;\n",
       "    }\n",
       "\n",
       "    .dataframe thead th {\n",
       "        text-align: right;\n",
       "    }\n",
       "</style>\n",
       "<table border=\"1\" class=\"dataframe\">\n",
       "  <thead>\n",
       "    <tr style=\"text-align: right;\">\n",
       "      <th></th>\n",
       "      <th>X53416</th>\n",
       "      <th>M83670</th>\n",
       "      <th>X90908</th>\n",
       "      <th>M97496</th>\n",
       "      <th>X90908.1</th>\n",
       "      <th>U37019</th>\n",
       "      <th>R48602</th>\n",
       "      <th>T96548</th>\n",
       "      <th>X64559</th>\n",
       "      <th>T55741</th>\n",
       "      <th>...</th>\n",
       "      <th>D14657</th>\n",
       "      <th>H87456</th>\n",
       "      <th>R64130</th>\n",
       "      <th>H11125.1</th>\n",
       "      <th>U22055</th>\n",
       "      <th>L22524</th>\n",
       "      <th>M13699.1</th>\n",
       "      <th>X54489</th>\n",
       "      <th>T55008</th>\n",
       "      <th>M10065.2</th>\n",
       "    </tr>\n",
       "  </thead>\n",
       "  <tbody>\n",
       "    <tr>\n",
       "      <th>count</th>\n",
       "      <td>36.000000</td>\n",
       "      <td>36.000000</td>\n",
       "      <td>36.000000</td>\n",
       "      <td>36.000000</td>\n",
       "      <td>36.000000</td>\n",
       "      <td>36.000000</td>\n",
       "      <td>36.000000</td>\n",
       "      <td>36.000000</td>\n",
       "      <td>36.000000</td>\n",
       "      <td>36.000000</td>\n",
       "      <td>...</td>\n",
       "      <td>36.000000</td>\n",
       "      <td>36.000000</td>\n",
       "      <td>36.000000</td>\n",
       "      <td>36.000000</td>\n",
       "      <td>36.000000</td>\n",
       "      <td>36.000000</td>\n",
       "      <td>36.000000</td>\n",
       "      <td>36.000000</td>\n",
       "      <td>36.000000</td>\n",
       "      <td>36.000000</td>\n",
       "    </tr>\n",
       "    <tr>\n",
       "      <th>mean</th>\n",
       "      <td>378.750000</td>\n",
       "      <td>177.305556</td>\n",
       "      <td>128.027778</td>\n",
       "      <td>568.305556</td>\n",
       "      <td>93.555556</td>\n",
       "      <td>366.833333</td>\n",
       "      <td>140.166667</td>\n",
       "      <td>644.194444</td>\n",
       "      <td>73.444444</td>\n",
       "      <td>68.055556</td>\n",
       "      <td>...</td>\n",
       "      <td>31.750000</td>\n",
       "      <td>71.111111</td>\n",
       "      <td>35.694444</td>\n",
       "      <td>53.194444</td>\n",
       "      <td>38.388889</td>\n",
       "      <td>40.944444</td>\n",
       "      <td>41.222222</td>\n",
       "      <td>57.027778</td>\n",
       "      <td>58.694444</td>\n",
       "      <td>44.027778</td>\n",
       "    </tr>\n",
       "    <tr>\n",
       "      <th>std</th>\n",
       "      <td>648.716067</td>\n",
       "      <td>243.494655</td>\n",
       "      <td>787.935802</td>\n",
       "      <td>637.451928</td>\n",
       "      <td>557.527370</td>\n",
       "      <td>427.166645</td>\n",
       "      <td>171.443202</td>\n",
       "      <td>685.514231</td>\n",
       "      <td>88.504219</td>\n",
       "      <td>90.766244</td>\n",
       "      <td>...</td>\n",
       "      <td>50.036201</td>\n",
       "      <td>118.940748</td>\n",
       "      <td>127.437115</td>\n",
       "      <td>269.630628</td>\n",
       "      <td>47.619490</td>\n",
       "      <td>83.763935</td>\n",
       "      <td>251.147778</td>\n",
       "      <td>71.322001</td>\n",
       "      <td>336.030766</td>\n",
       "      <td>224.891782</td>\n",
       "    </tr>\n",
       "    <tr>\n",
       "      <th>min</th>\n",
       "      <td>-694.000000</td>\n",
       "      <td>-117.000000</td>\n",
       "      <td>-50.000000</td>\n",
       "      <td>8.000000</td>\n",
       "      <td>-54.000000</td>\n",
       "      <td>-6.000000</td>\n",
       "      <td>-18.000000</td>\n",
       "      <td>-8.000000</td>\n",
       "      <td>-8.000000</td>\n",
       "      <td>-14.000000</td>\n",
       "      <td>...</td>\n",
       "      <td>-21.000000</td>\n",
       "      <td>-24.000000</td>\n",
       "      <td>-12.000000</td>\n",
       "      <td>-1484.000000</td>\n",
       "      <td>-73.000000</td>\n",
       "      <td>-16.000000</td>\n",
       "      <td>-23.000000</td>\n",
       "      <td>-5.000000</td>\n",
       "      <td>-17.000000</td>\n",
       "      <td>-214.000000</td>\n",
       "    </tr>\n",
       "    <tr>\n",
       "      <th>25%</th>\n",
       "      <td>-95.750000</td>\n",
       "      <td>-31.000000</td>\n",
       "      <td>-13.250000</td>\n",
       "      <td>47.250000</td>\n",
       "      <td>-7.000000</td>\n",
       "      <td>27.250000</td>\n",
       "      <td>17.750000</td>\n",
       "      <td>33.250000</td>\n",
       "      <td>8.250000</td>\n",
       "      <td>-0.250000</td>\n",
       "      <td>...</td>\n",
       "      <td>1.500000</td>\n",
       "      <td>9.000000</td>\n",
       "      <td>-1.250000</td>\n",
       "      <td>59.250000</td>\n",
       "      <td>12.750000</td>\n",
       "      <td>3.500000</td>\n",
       "      <td>-4.750000</td>\n",
       "      <td>7.000000</td>\n",
       "      <td>-5.000000</td>\n",
       "      <td>-72.750000</td>\n",
       "    </tr>\n",
       "    <tr>\n",
       "      <th>50%</th>\n",
       "      <td>194.500000</td>\n",
       "      <td>117.000000</td>\n",
       "      <td>-4.500000</td>\n",
       "      <td>293.500000</td>\n",
       "      <td>3.000000</td>\n",
       "      <td>110.500000</td>\n",
       "      <td>37.500000</td>\n",
       "      <td>333.500000</td>\n",
       "      <td>37.500000</td>\n",
       "      <td>23.500000</td>\n",
       "      <td>...</td>\n",
       "      <td>10.000000</td>\n",
       "      <td>55.500000</td>\n",
       "      <td>3.000000</td>\n",
       "      <td>94.000000</td>\n",
       "      <td>36.000000</td>\n",
       "      <td>7.000000</td>\n",
       "      <td>0.000000</td>\n",
       "      <td>20.000000</td>\n",
       "      <td>1.500000</td>\n",
       "      <td>-12.000000</td>\n",
       "    </tr>\n",
       "    <tr>\n",
       "      <th>75%</th>\n",
       "      <td>721.750000</td>\n",
       "      <td>330.500000</td>\n",
       "      <td>14.000000</td>\n",
       "      <td>1079.250000</td>\n",
       "      <td>10.250000</td>\n",
       "      <td>675.000000</td>\n",
       "      <td>268.500000</td>\n",
       "      <td>1185.250000</td>\n",
       "      <td>107.750000</td>\n",
       "      <td>109.250000</td>\n",
       "      <td>...</td>\n",
       "      <td>48.000000</td>\n",
       "      <td>78.750000</td>\n",
       "      <td>6.000000</td>\n",
       "      <td>121.250000</td>\n",
       "      <td>64.000000</td>\n",
       "      <td>39.500000</td>\n",
       "      <td>6.500000</td>\n",
       "      <td>98.250000</td>\n",
       "      <td>7.000000</td>\n",
       "      <td>74.250000</td>\n",
       "    </tr>\n",
       "    <tr>\n",
       "      <th>max</th>\n",
       "      <td>1815.000000</td>\n",
       "      <td>718.000000</td>\n",
       "      <td>4723.000000</td>\n",
       "      <td>2261.000000</td>\n",
       "      <td>3344.000000</td>\n",
       "      <td>1354.000000</td>\n",
       "      <td>718.000000</td>\n",
       "      <td>2203.000000</td>\n",
       "      <td>357.000000</td>\n",
       "      <td>357.000000</td>\n",
       "      <td>...</td>\n",
       "      <td>156.000000</td>\n",
       "      <td>686.000000</td>\n",
       "      <td>686.000000</td>\n",
       "      <td>251.000000</td>\n",
       "      <td>138.000000</td>\n",
       "      <td>444.000000</td>\n",
       "      <td>1505.000000</td>\n",
       "      <td>271.000000</td>\n",
       "      <td>2018.000000</td>\n",
       "      <td>1089.000000</td>\n",
       "    </tr>\n",
       "  </tbody>\n",
       "</table>\n",
       "<p>8 rows × 7464 columns</p>\n",
       "</div>"
      ],
      "text/plain": [
       "            X53416      M83670       X90908       M97496     X90908.1  \\\n",
       "count    36.000000   36.000000    36.000000    36.000000    36.000000   \n",
       "mean    378.750000  177.305556   128.027778   568.305556    93.555556   \n",
       "std     648.716067  243.494655   787.935802   637.451928   557.527370   \n",
       "min    -694.000000 -117.000000   -50.000000     8.000000   -54.000000   \n",
       "25%     -95.750000  -31.000000   -13.250000    47.250000    -7.000000   \n",
       "50%     194.500000  117.000000    -4.500000   293.500000     3.000000   \n",
       "75%     721.750000  330.500000    14.000000  1079.250000    10.250000   \n",
       "max    1815.000000  718.000000  4723.000000  2261.000000  3344.000000   \n",
       "\n",
       "            U37019      R48602       T96548      X64559      T55741  ...  \\\n",
       "count    36.000000   36.000000    36.000000   36.000000   36.000000  ...   \n",
       "mean    366.833333  140.166667   644.194444   73.444444   68.055556  ...   \n",
       "std     427.166645  171.443202   685.514231   88.504219   90.766244  ...   \n",
       "min      -6.000000  -18.000000    -8.000000   -8.000000  -14.000000  ...   \n",
       "25%      27.250000   17.750000    33.250000    8.250000   -0.250000  ...   \n",
       "50%     110.500000   37.500000   333.500000   37.500000   23.500000  ...   \n",
       "75%     675.000000  268.500000  1185.250000  107.750000  109.250000  ...   \n",
       "max    1354.000000  718.000000  2203.000000  357.000000  357.000000  ...   \n",
       "\n",
       "           D14657      H87456      R64130     H11125.1      U22055  \\\n",
       "count   36.000000   36.000000   36.000000    36.000000   36.000000   \n",
       "mean    31.750000   71.111111   35.694444    53.194444   38.388889   \n",
       "std     50.036201  118.940748  127.437115   269.630628   47.619490   \n",
       "min    -21.000000  -24.000000  -12.000000 -1484.000000  -73.000000   \n",
       "25%      1.500000    9.000000   -1.250000    59.250000   12.750000   \n",
       "50%     10.000000   55.500000    3.000000    94.000000   36.000000   \n",
       "75%     48.000000   78.750000    6.000000   121.250000   64.000000   \n",
       "max    156.000000  686.000000  686.000000   251.000000  138.000000   \n",
       "\n",
       "           L22524     M13699.1      X54489       T55008     M10065.2  \n",
       "count   36.000000    36.000000   36.000000    36.000000    36.000000  \n",
       "mean    40.944444    41.222222   57.027778    58.694444    44.027778  \n",
       "std     83.763935   251.147778   71.322001   336.030766   224.891782  \n",
       "min    -16.000000   -23.000000   -5.000000   -17.000000  -214.000000  \n",
       "25%      3.500000    -4.750000    7.000000    -5.000000   -72.750000  \n",
       "50%      7.000000     0.000000   20.000000     1.500000   -12.000000  \n",
       "75%     39.500000     6.500000   98.250000     7.000000    74.250000  \n",
       "max    444.000000  1505.000000  271.000000  2018.000000  1089.000000  \n",
       "\n",
       "[8 rows x 7464 columns]"
      ]
     },
     "execution_count": 10,
     "metadata": {},
     "output_type": "execute_result"
    }
   ],
   "source": [
    "df.describe()"
   ]
  },
  {
   "cell_type": "code",
   "execution_count": 11,
   "metadata": {
    "execution": {
     "iopub.execute_input": "2022-05-12T13:02:05.059132Z",
     "iopub.status.busy": "2022-05-12T13:02:05.058834Z",
     "iopub.status.idle": "2022-05-12T13:02:05.065675Z",
     "shell.execute_reply": "2022-05-12T13:02:05.064697Z",
     "shell.execute_reply.started": "2022-05-12T13:02:05.059093Z"
    }
   },
   "outputs": [],
   "source": [
    "X=df.iloc[:,:-1].values\n",
    "y=df.iloc[:,-1].values"
   ]
  },
  {
   "cell_type": "markdown",
   "metadata": {},
   "source": [
    "# Label Encoding "
   ]
  },
  {
   "cell_type": "code",
   "execution_count": 12,
   "metadata": {
    "execution": {
     "iopub.execute_input": "2022-05-12T13:02:05.067253Z",
     "iopub.status.busy": "2022-05-12T13:02:05.067016Z",
     "iopub.status.idle": "2022-05-12T13:02:05.122459Z",
     "shell.execute_reply": "2022-05-12T13:02:05.121825Z",
     "shell.execute_reply.started": "2022-05-12T13:02:05.067223Z"
    }
   },
   "outputs": [],
   "source": [
    "from sklearn import preprocessing\n",
    "label_encoder = preprocessing.LabelEncoder()\n",
    "df['y']= label_encoder.fit_transform(df['y'])"
   ]
  },
  {
   "cell_type": "code",
   "execution_count": 13,
   "metadata": {
    "execution": {
     "iopub.execute_input": "2022-05-12T13:02:05.124Z",
     "iopub.status.busy": "2022-05-12T13:02:05.123592Z",
     "iopub.status.idle": "2022-05-12T13:02:05.12955Z",
     "shell.execute_reply": "2022-05-12T13:02:05.128973Z",
     "shell.execute_reply.started": "2022-05-12T13:02:05.123968Z"
    }
   },
   "outputs": [
    {
     "data": {
      "text/plain": [
       "array([1, 0])"
      ]
     },
     "execution_count": 13,
     "metadata": {},
     "output_type": "execute_result"
    }
   ],
   "source": [
    "df['y'].unique()"
   ]
  },
  {
   "cell_type": "markdown",
   "metadata": {},
   "source": [
    "# Split datset into training and testing data"
   ]
  },
  {
   "cell_type": "code",
   "execution_count": 14,
   "metadata": {
    "execution": {
     "iopub.execute_input": "2022-05-12T13:02:05.131051Z",
     "iopub.status.busy": "2022-05-12T13:02:05.130612Z",
     "iopub.status.idle": "2022-05-12T13:02:05.162401Z",
     "shell.execute_reply": "2022-05-12T13:02:05.161742Z",
     "shell.execute_reply.started": "2022-05-12T13:02:05.131009Z"
    }
   },
   "outputs": [],
   "source": [
    "from sklearn.model_selection import train_test_split\n",
    "X_train, X_test, y_train, y_test = train_test_split(X,y,test_size=.2,random_state=42)"
   ]
  },
  {
   "cell_type": "markdown",
   "metadata": {},
   "source": [
    "# Training data"
   ]
  },
  {
   "cell_type": "code",
   "execution_count": 15,
   "metadata": {
    "execution": {
     "iopub.execute_input": "2022-05-12T13:02:05.16383Z",
     "iopub.status.busy": "2022-05-12T13:02:05.163474Z",
     "iopub.status.idle": "2022-05-12T13:02:05.16881Z",
     "shell.execute_reply": "2022-05-12T13:02:05.168161Z",
     "shell.execute_reply.started": "2022-05-12T13:02:05.163801Z"
    }
   },
   "outputs": [
    {
     "data": {
      "text/plain": [
       "array([[-378,   31,  -29, ...,   97,    0,  -51],\n",
       "       [  71, -117,   -1, ...,  114,    1, 1089],\n",
       "       [ 475,  -79,   20, ...,   76,   11,   22],\n",
       "       ...,\n",
       "       [-346,  -35,   37, ...,   30,   -5,  -53],\n",
       "       [-357,    6,   20, ...,   52,   -1,  -72],\n",
       "       [1122,  416,   -7, ...,   16,  -17,  -10]], dtype=int64)"
      ]
     },
     "execution_count": 15,
     "metadata": {},
     "output_type": "execute_result"
    }
   ],
   "source": [
    "X_train"
   ]
  },
  {
   "cell_type": "code",
   "execution_count": 16,
   "metadata": {
    "execution": {
     "iopub.execute_input": "2022-05-12T13:02:05.170191Z",
     "iopub.status.busy": "2022-05-12T13:02:05.16987Z",
     "iopub.status.idle": "2022-05-12T13:02:05.184623Z",
     "shell.execute_reply": "2022-05-12T13:02:05.184037Z",
     "shell.execute_reply.started": "2022-05-12T13:02:05.170147Z"
    }
   },
   "outputs": [
    {
     "data": {
      "text/plain": [
       "array(['tumor', 'tumor', 'tumor', 'Normal', 'tumor', 'tumor', 'Normal',\n",
       "       'tumor', 'Normal', 'tumor', 'tumor', 'tumor', 'Normal', 'tumor',\n",
       "       'Normal', 'tumor', 'Normal', 'Normal', 'Normal', 'tumor', 'Normal',\n",
       "       'Normal', 'Normal', 'tumor', 'Normal', 'tumor', 'tumor', 'Normal'],\n",
       "      dtype=object)"
      ]
     },
     "execution_count": 16,
     "metadata": {},
     "output_type": "execute_result"
    }
   ],
   "source": [
    "y_train"
   ]
  },
  {
   "cell_type": "markdown",
   "metadata": {},
   "source": [
    "# Testing data"
   ]
  },
  {
   "cell_type": "code",
   "execution_count": 17,
   "metadata": {
    "execution": {
     "iopub.execute_input": "2022-05-12T13:02:05.186269Z",
     "iopub.status.busy": "2022-05-12T13:02:05.185953Z",
     "iopub.status.idle": "2022-05-12T13:02:05.198608Z",
     "shell.execute_reply": "2022-05-12T13:02:05.197992Z",
     "shell.execute_reply.started": "2022-05-12T13:02:05.186241Z"
    }
   },
   "outputs": [
    {
     "data": {
      "text/plain": [
       "array([[ 928,  332,    4, ...,   32,   -5,   72],\n",
       "       [-694,  -45,  -34, ...,  179,   -1, -139],\n",
       "       [ 632,  185, 4723, ...,    3,   -4, -103],\n",
       "       ...,\n",
       "       [ 488,  564,  -29, ...,   11,    7, -145],\n",
       "       [ 462,  379,  -21, ...,   10,   -5,   66],\n",
       "       [ 465, -104,    5, ...,  131,   -5,  267]], dtype=int64)"
      ]
     },
     "execution_count": 17,
     "metadata": {},
     "output_type": "execute_result"
    }
   ],
   "source": [
    "X_test"
   ]
  },
  {
   "cell_type": "code",
   "execution_count": 18,
   "metadata": {
    "execution": {
     "iopub.execute_input": "2022-05-12T13:02:05.200088Z",
     "iopub.status.busy": "2022-05-12T13:02:05.199776Z",
     "iopub.status.idle": "2022-05-12T13:02:05.21742Z",
     "shell.execute_reply": "2022-05-12T13:02:05.216536Z",
     "shell.execute_reply.started": "2022-05-12T13:02:05.20006Z"
    }
   },
   "outputs": [
    {
     "data": {
      "text/plain": [
       "array(['Normal', 'tumor', 'Normal', 'Normal', 'tumor', 'Normal', 'Normal',\n",
       "       'tumor'], dtype=object)"
      ]
     },
     "execution_count": 18,
     "metadata": {},
     "output_type": "execute_result"
    }
   ],
   "source": [
    "y_test"
   ]
  },
  {
   "cell_type": "markdown",
   "metadata": {},
   "source": [
    "# Transformation of data"
   ]
  },
  {
   "cell_type": "code",
   "execution_count": 19,
   "metadata": {
    "execution": {
     "iopub.execute_input": "2022-05-12T13:02:05.219266Z",
     "iopub.status.busy": "2022-05-12T13:02:05.218776Z",
     "iopub.status.idle": "2022-05-12T13:02:05.239422Z",
     "shell.execute_reply": "2022-05-12T13:02:05.238603Z",
     "shell.execute_reply.started": "2022-05-12T13:02:05.219236Z"
    }
   },
   "outputs": [],
   "source": [
    "from sklearn.preprocessing import StandardScaler\n",
    "sc=StandardScaler()\n",
    "X_train=sc.fit_transform(X_train)\n",
    "X_test=sc.transform(X_test)"
   ]
  },
  {
   "cell_type": "markdown",
   "metadata": {},
   "source": [
    "# Shape of X_train and y_train"
   ]
  },
  {
   "cell_type": "code",
   "execution_count": 20,
   "metadata": {
    "execution": {
     "iopub.execute_input": "2022-05-12T13:02:05.241231Z",
     "iopub.status.busy": "2022-05-12T13:02:05.240542Z",
     "iopub.status.idle": "2022-05-12T13:02:05.248708Z",
     "shell.execute_reply": "2022-05-12T13:02:05.247737Z",
     "shell.execute_reply.started": "2022-05-12T13:02:05.241183Z"
    }
   },
   "outputs": [
    {
     "name": "stdout",
     "output_type": "stream",
     "text": [
      "(28, 7464)\n",
      "(28,)\n"
     ]
    }
   ],
   "source": [
    "print(X_train.shape)\n",
    "print(y_train.shape)"
   ]
  },
  {
   "cell_type": "markdown",
   "metadata": {},
   "source": [
    "# Machine Learning(Classification)\n",
    "\n",
    "- Logistic Regression\n",
    "- KNN(KNearest Neighbors)\n",
    "- Random Forest Classifier\n",
    "- Decision Tree Classifier"
   ]
  },
  {
   "cell_type": "markdown",
   "metadata": {},
   "source": [
    "# Logistic Regression"
   ]
  },
  {
   "cell_type": "code",
   "execution_count": 21,
   "metadata": {
    "execution": {
     "iopub.execute_input": "2022-05-12T13:02:05.250054Z",
     "iopub.status.busy": "2022-05-12T13:02:05.249833Z",
     "iopub.status.idle": "2022-05-12T13:02:05.348709Z",
     "shell.execute_reply": "2022-05-12T13:02:05.347682Z",
     "shell.execute_reply.started": "2022-05-12T13:02:05.250026Z"
    }
   },
   "outputs": [
    {
     "data": {
      "text/plain": [
       "LogisticRegression()"
      ]
     },
     "execution_count": 21,
     "metadata": {},
     "output_type": "execute_result"
    }
   ],
   "source": [
    "# build the model\n",
    "from sklearn.linear_model import LogisticRegression\n",
    "# Fit LogisticRegression\n",
    "log_reg = LogisticRegression()\n",
    "log_reg.fit(X_train,y_train)"
   ]
  },
  {
   "cell_type": "code",
   "execution_count": 22,
   "metadata": {
    "execution": {
     "iopub.execute_input": "2022-05-12T13:02:05.35184Z",
     "iopub.status.busy": "2022-05-12T13:02:05.350774Z",
     "iopub.status.idle": "2022-05-12T13:02:05.362777Z",
     "shell.execute_reply": "2022-05-12T13:02:05.361843Z",
     "shell.execute_reply.started": "2022-05-12T13:02:05.351781Z"
    }
   },
   "outputs": [
    {
     "data": {
      "text/plain": [
       "array(['Normal', 'tumor', 'Normal', 'Normal', 'tumor', 'Normal', 'Normal',\n",
       "       'tumor'], dtype=object)"
      ]
     },
     "execution_count": 22,
     "metadata": {},
     "output_type": "execute_result"
    }
   ],
   "source": [
    "#Prediction\n",
    "y_predict = log_reg.predict(X_test)\n",
    "y_predict"
   ]
  },
  {
   "cell_type": "code",
   "execution_count": 23,
   "metadata": {
    "execution": {
     "iopub.execute_input": "2022-05-12T13:02:05.365502Z",
     "iopub.status.busy": "2022-05-12T13:02:05.364389Z",
     "iopub.status.idle": "2022-05-12T13:02:05.375644Z",
     "shell.execute_reply": "2022-05-12T13:02:05.374691Z",
     "shell.execute_reply.started": "2022-05-12T13:02:05.365445Z"
    }
   },
   "outputs": [
    {
     "name": "stdout",
     "output_type": "stream",
     "text": [
      "1.0\n"
     ]
    }
   ],
   "source": [
    "## Accuracy\n",
    "score = log_reg.score(X_test, y_test)\n",
    "print(score)"
   ]
  },
  {
   "cell_type": "code",
   "execution_count": 24,
   "metadata": {
    "execution": {
     "iopub.execute_input": "2022-05-12T13:02:05.377828Z",
     "iopub.status.busy": "2022-05-12T13:02:05.377211Z",
     "iopub.status.idle": "2022-05-12T13:02:05.39361Z",
     "shell.execute_reply": "2022-05-12T13:02:05.392586Z",
     "shell.execute_reply.started": "2022-05-12T13:02:05.377766Z"
    }
   },
   "outputs": [
    {
     "data": {
      "text/plain": [
       "array([[5, 0],\n",
       "       [0, 3]], dtype=int64)"
      ]
     },
     "execution_count": 24,
     "metadata": {},
     "output_type": "execute_result"
    }
   ],
   "source": [
    "from sklearn import metrics\n",
    "cnf_matrix = metrics.confusion_matrix(y_test, y_predict)\n",
    "cnf_matrix"
   ]
  },
  {
   "cell_type": "code",
   "execution_count": 25,
   "metadata": {
    "execution": {
     "iopub.execute_input": "2022-05-12T13:02:05.39611Z",
     "iopub.status.busy": "2022-05-12T13:02:05.395161Z",
     "iopub.status.idle": "2022-05-12T13:02:05.416689Z",
     "shell.execute_reply": "2022-05-12T13:02:05.415363Z",
     "shell.execute_reply.started": "2022-05-12T13:02:05.396052Z"
    }
   },
   "outputs": [
    {
     "name": "stdout",
     "output_type": "stream",
     "text": [
      "              precision    recall  f1-score   support\n",
      "\n",
      "      Normal       1.00      1.00      1.00         5\n",
      "       tumor       1.00      1.00      1.00         3\n",
      "\n",
      "    accuracy                           1.00         8\n",
      "   macro avg       1.00      1.00      1.00         8\n",
      "weighted avg       1.00      1.00      1.00         8\n",
      "\n"
     ]
    }
   ],
   "source": [
    "from sklearn.metrics import classification_report\n",
    "print(classification_report(y_test, y_predict))"
   ]
  },
  {
   "cell_type": "code",
   "execution_count": 26,
   "metadata": {
    "execution": {
     "iopub.execute_input": "2022-05-12T13:02:05.419685Z",
     "iopub.status.busy": "2022-05-12T13:02:05.418907Z",
     "iopub.status.idle": "2022-05-12T13:02:05.673271Z",
     "shell.execute_reply": "2022-05-12T13:02:05.672275Z",
     "shell.execute_reply.started": "2022-05-12T13:02:05.419608Z"
    }
   },
   "outputs": [
    {
     "name": "stdout",
     "output_type": "stream",
     "text": [
      "Score :  1.0\n"
     ]
    },
    {
     "data": {
      "image/png": "[encoded data removed]",
      "text/plain": [
       "<Figure size 432x288 with 2 Axes>"
      ]
     },
     "metadata": {
      "needs_background": "light"
     },
     "output_type": "display_data"
    }
   ],
   "source": [
    "# Plotting of Confusion Matrics of Logistic Regression\n",
    "from sklearn.metrics import confusion_matrix\n",
    "pred_list = [log_reg]\n",
    "\n",
    "for i in pred_list:\n",
    "    print(\"Score : \",i.score(X_test,y_test))\n",
    "    y_pred = i.predict(X_test)\n",
    "    sns.heatmap(confusion_matrix(y_test,y_pred),annot = True)\n",
    "    plt.xlabel(\"Y_pred\")\n",
    "    plt.ylabel(\"Y_test\")\n",
    "    plt.title(i)\n",
    "    plt.show()"
   ]
  },
  {
   "cell_type": "markdown",
   "metadata": {},
   "source": [
    "# KNearest Neighbors"
   ]
  },
  {
   "cell_type": "code",
   "execution_count": 27,
   "metadata": {
    "execution": {
     "iopub.execute_input": "2022-05-12T13:02:05.675212Z",
     "iopub.status.busy": "2022-05-12T13:02:05.674799Z",
     "iopub.status.idle": "2022-05-12T13:02:05.812578Z",
     "shell.execute_reply": "2022-05-12T13:02:05.811964Z",
     "shell.execute_reply.started": "2022-05-12T13:02:05.675176Z"
    }
   },
   "outputs": [
    {
     "data": {
      "text/plain": [
       "KNeighborsClassifier(n_neighbors=3)"
      ]
     },
     "execution_count": 27,
     "metadata": {},
     "output_type": "execute_result"
    }
   ],
   "source": [
    "# Build the model\n",
    "from sklearn.neighbors import KNeighborsClassifier\n",
    "# Fit KNN Classifier\n",
    "KNN = KNeighborsClassifier(n_neighbors=3, metric='minkowski', p=2)\n",
    "KNN.fit(X_train,y_train)"
   ]
  },
  {
   "cell_type": "code",
   "execution_count": 28,
   "metadata": {
    "execution": {
     "iopub.execute_input": "2022-05-12T13:02:05.816814Z",
     "iopub.status.busy": "2022-05-12T13:02:05.816133Z",
     "iopub.status.idle": "2022-05-12T13:02:05.831525Z",
     "shell.execute_reply": "2022-05-12T13:02:05.830306Z",
     "shell.execute_reply.started": "2022-05-12T13:02:05.816768Z"
    }
   },
   "outputs": [
    {
     "data": {
      "text/plain": [
       "array(['Normal', 'tumor', 'Normal', 'Normal', 'tumor', 'Normal', 'Normal',\n",
       "       'tumor'], dtype=object)"
      ]
     },
     "execution_count": 28,
     "metadata": {},
     "output_type": "execute_result"
    }
   ],
   "source": [
    "# Prediction\n",
    "y_predict = KNN.predict(X_test)\n",
    "y_predict"
   ]
  },
  {
   "cell_type": "code",
   "execution_count": 29,
   "metadata": {
    "execution": {
     "iopub.execute_input": "2022-05-12T13:02:05.834846Z",
     "iopub.status.busy": "2022-05-12T13:02:05.833526Z",
     "iopub.status.idle": "2022-05-12T13:02:05.849544Z",
     "shell.execute_reply": "2022-05-12T13:02:05.848287Z",
     "shell.execute_reply.started": "2022-05-12T13:02:05.834785Z"
    }
   },
   "outputs": [
    {
     "name": "stdout",
     "output_type": "stream",
     "text": [
      "1.0\n"
     ]
    }
   ],
   "source": [
    "# Accuracy Score\n",
    "score = KNN.score(X_test, y_test)\n",
    "print(score)"
   ]
  },
  {
   "cell_type": "code",
   "execution_count": 30,
   "metadata": {
    "execution": {
     "iopub.execute_input": "2022-05-12T13:02:05.852427Z",
     "iopub.status.busy": "2022-05-12T13:02:05.851225Z",
     "iopub.status.idle": "2022-05-12T13:02:05.864698Z",
     "shell.execute_reply": "2022-05-12T13:02:05.863695Z",
     "shell.execute_reply.started": "2022-05-12T13:02:05.852369Z"
    }
   },
   "outputs": [
    {
     "data": {
      "text/plain": [
       "array([[5, 0],\n",
       "       [0, 3]], dtype=int64)"
      ]
     },
     "execution_count": 30,
     "metadata": {},
     "output_type": "execute_result"
    }
   ],
   "source": [
    "# Confusion Metrix\n",
    "from sklearn import metrics\n",
    "cnf_matrix = metrics.confusion_matrix(y_test, y_predict)\n",
    "cnf_matrix"
   ]
  },
  {
   "cell_type": "code",
   "execution_count": 31,
   "metadata": {
    "execution": {
     "iopub.execute_input": "2022-05-12T13:02:05.866817Z",
     "iopub.status.busy": "2022-05-12T13:02:05.866433Z",
     "iopub.status.idle": "2022-05-12T13:02:05.885794Z",
     "shell.execute_reply": "2022-05-12T13:02:05.884947Z",
     "shell.execute_reply.started": "2022-05-12T13:02:05.866767Z"
    }
   },
   "outputs": [
    {
     "name": "stdout",
     "output_type": "stream",
     "text": [
      "              precision    recall  f1-score   support\n",
      "\n",
      "      Normal       1.00      1.00      1.00         5\n",
      "       tumor       1.00      1.00      1.00         3\n",
      "\n",
      "    accuracy                           1.00         8\n",
      "   macro avg       1.00      1.00      1.00         8\n",
      "weighted avg       1.00      1.00      1.00         8\n",
      "\n"
     ]
    }
   ],
   "source": [
    "# Classification Report\n",
    "from sklearn.metrics import classification_report\n",
    "print(classification_report(y_test, y_predict))"
   ]
  },
  {
   "cell_type": "code",
   "execution_count": 32,
   "metadata": {
    "execution": {
     "iopub.execute_input": "2022-05-12T13:02:05.887919Z",
     "iopub.status.busy": "2022-05-12T13:02:05.887318Z",
     "iopub.status.idle": "2022-05-12T13:02:06.14558Z",
     "shell.execute_reply": "2022-05-12T13:02:06.144498Z",
     "shell.execute_reply.started": "2022-05-12T13:02:05.887871Z"
    }
   },
   "outputs": [
    {
     "name": "stdout",
     "output_type": "stream",
     "text": [
      "Score :  1.0\n"
     ]
    },
    {
     "data": {
      "image/png": "[encoded data removed]",
      "text/plain": [
       "<Figure size 432x288 with 2 Axes>"
      ]
     },
     "metadata": {
      "needs_background": "light"
     },
     "output_type": "display_data"
    }
   ],
   "source": [
    "# Plotting of Confusion Matrix of KNN\n",
    "from sklearn.metrics import confusion_matrix\n",
    "pred_list = [KNN]\n",
    "\n",
    "for i in pred_list:\n",
    "    print(\"Score : \",i.score(X_test,y_test))\n",
    "    y_pred = i.predict(X_test)\n",
    "    sns.heatmap(confusion_matrix(y_test,y_pred),annot = True)\n",
    "    plt.xlabel(\"Y_pred\")\n",
    "    plt.ylabel(\"Y_test\")\n",
    "    plt.title(i)\n",
    "    plt.show()"
   ]
  },
  {
   "cell_type": "markdown",
   "metadata": {},
   "source": [
    "# RandomForestClassifier"
   ]
  },
  {
   "cell_type": "code",
   "execution_count": 33,
   "metadata": {
    "execution": {
     "iopub.execute_input": "2022-05-12T13:02:06.147667Z",
     "iopub.status.busy": "2022-05-12T13:02:06.147301Z",
     "iopub.status.idle": "2022-05-12T13:02:06.215103Z",
     "shell.execute_reply": "2022-05-12T13:02:06.214089Z",
     "shell.execute_reply.started": "2022-05-12T13:02:06.147594Z"
    }
   },
   "outputs": [
    {
     "data": {
      "text/plain": [
       "RandomForestClassifier(n_estimators=20, random_state=0)"
      ]
     },
     "execution_count": 33,
     "metadata": {},
     "output_type": "execute_result"
    }
   ],
   "source": [
    "# Build Model\n",
    "from sklearn.ensemble import RandomForestClassifier\n",
    "# Fit RandomForest Clsassifier\n",
    "RFC = RandomForestClassifier(n_estimators=20, random_state=0)\n",
    "RFC.fit(X_train,y_train)"
   ]
  },
  {
   "cell_type": "code",
   "execution_count": 34,
   "metadata": {
    "execution": {
     "iopub.execute_input": "2022-05-12T13:02:06.217333Z",
     "iopub.status.busy": "2022-05-12T13:02:06.217012Z",
     "iopub.status.idle": "2022-05-12T13:02:06.228772Z",
     "shell.execute_reply": "2022-05-12T13:02:06.227783Z",
     "shell.execute_reply.started": "2022-05-12T13:02:06.217287Z"
    }
   },
   "outputs": [
    {
     "data": {
      "text/plain": [
       "array(['Normal', 'tumor', 'Normal', 'Normal', 'tumor', 'Normal', 'Normal',\n",
       "       'tumor'], dtype=object)"
      ]
     },
     "execution_count": 34,
     "metadata": {},
     "output_type": "execute_result"
    }
   ],
   "source": [
    "# Prediction\n",
    "y_predict = RFC.predict(X_test)\n",
    "y_predict"
   ]
  },
  {
   "cell_type": "code",
   "execution_count": 35,
   "metadata": {
    "execution": {
     "iopub.execute_input": "2022-05-12T13:02:06.230241Z",
     "iopub.status.busy": "2022-05-12T13:02:06.230003Z",
     "iopub.status.idle": "2022-05-12T13:02:06.245641Z",
     "shell.execute_reply": "2022-05-12T13:02:06.244693Z",
     "shell.execute_reply.started": "2022-05-12T13:02:06.230211Z"
    }
   },
   "outputs": [
    {
     "name": "stdout",
     "output_type": "stream",
     "text": [
      "1.0\n"
     ]
    }
   ],
   "source": [
    "# Accuracy Score\n",
    "score = RFC.score(X_test, y_test)\n",
    "print(score)"
   ]
  },
  {
   "cell_type": "code",
   "execution_count": 36,
   "metadata": {
    "execution": {
     "iopub.execute_input": "2022-05-12T13:02:06.247517Z",
     "iopub.status.busy": "2022-05-12T13:02:06.247283Z",
     "iopub.status.idle": "2022-05-12T13:02:06.42857Z",
     "shell.execute_reply": "2022-05-12T13:02:06.427966Z",
     "shell.execute_reply.started": "2022-05-12T13:02:06.247488Z"
    }
   },
   "outputs": [
    {
     "name": "stdout",
     "output_type": "stream",
     "text": [
      "Score :  1.0\n"
     ]
    },
    {
     "data": {
      "image/png": "[encoded data removed]",
      "text/plain": [
       "<Figure size 432x288 with 2 Axes>"
      ]
     },
     "metadata": {
      "needs_background": "light"
     },
     "output_type": "display_data"
    }
   ],
   "source": [
    "# Plotting of confusion matrix of Random Forest Classifier\n",
    "from sklearn.metrics import confusion_matrix\n",
    "pred_list = [RFC]\n",
    "\n",
    "for i in pred_list:\n",
    "    print(\"Score : \",i.score(X_test,y_test))\n",
    "    y_pred = i.predict(X_test)\n",
    "    sns.heatmap(confusion_matrix(y_test,y_pred),annot = True)\n",
    "    plt.xlabel(\"Y_pred\")\n",
    "    plt.ylabel(\"Y_test\")\n",
    "    plt.title(i)\n",
    "    plt.show()"
   ]
  },
  {
   "cell_type": "markdown",
   "metadata": {},
   "source": [
    "# DecisionTreeClassifier"
   ]
  },
  {
   "cell_type": "code",
   "execution_count": 37,
   "metadata": {
    "execution": {
     "iopub.execute_input": "2022-05-12T13:02:06.430221Z",
     "iopub.status.busy": "2022-05-12T13:02:06.429697Z",
     "iopub.status.idle": "2022-05-12T13:02:06.454067Z",
     "shell.execute_reply": "2022-05-12T13:02:06.453109Z",
     "shell.execute_reply.started": "2022-05-12T13:02:06.430184Z"
    }
   },
   "outputs": [
    {
     "data": {
      "text/plain": [
       "DecisionTreeClassifier()"
      ]
     },
     "execution_count": 37,
     "metadata": {},
     "output_type": "execute_result"
    }
   ],
   "source": [
    "# Build the model\n",
    "from sklearn.tree import DecisionTreeClassifier\n",
    "# Fit DecisionTree Classifier\n",
    "DTC = DecisionTreeClassifier()\n",
    "DTC.fit(X_train,y_train)"
   ]
  },
  {
   "cell_type": "code",
   "execution_count": 38,
   "metadata": {
    "execution": {
     "iopub.execute_input": "2022-05-12T13:02:06.455851Z",
     "iopub.status.busy": "2022-05-12T13:02:06.455105Z",
     "iopub.status.idle": "2022-05-12T13:02:06.462668Z",
     "shell.execute_reply": "2022-05-12T13:02:06.461652Z",
     "shell.execute_reply.started": "2022-05-12T13:02:06.455813Z"
    }
   },
   "outputs": [
    {
     "data": {
      "text/plain": [
       "array(['Normal', 'tumor', 'Normal', 'Normal', 'tumor', 'tumor', 'Normal',\n",
       "       'tumor'], dtype=object)"
      ]
     },
     "execution_count": 38,
     "metadata": {},
     "output_type": "execute_result"
    }
   ],
   "source": [
    "#prediction\n",
    "y_predict = DTC.predict(X_test)\n",
    "y_predict"
   ]
  },
  {
   "cell_type": "code",
   "execution_count": 39,
   "metadata": {
    "execution": {
     "iopub.execute_input": "2022-05-12T13:02:06.464125Z",
     "iopub.status.busy": "2022-05-12T13:02:06.463882Z",
     "iopub.status.idle": "2022-05-12T13:02:06.477091Z",
     "shell.execute_reply": "2022-05-12T13:02:06.476238Z",
     "shell.execute_reply.started": "2022-05-12T13:02:06.464094Z"
    }
   },
   "outputs": [
    {
     "name": "stdout",
     "output_type": "stream",
     "text": [
      "0.875\n"
     ]
    }
   ],
   "source": [
    "# Accuracy Score\n",
    "score = DTC.score(X_test, y_test)\n",
    "print(score)"
   ]
  },
  {
   "cell_type": "code",
   "execution_count": 40,
   "metadata": {
    "execution": {
     "iopub.execute_input": "2022-05-12T13:02:06.479022Z",
     "iopub.status.busy": "2022-05-12T13:02:06.478586Z",
     "iopub.status.idle": "2022-05-12T13:02:06.699839Z",
     "shell.execute_reply": "2022-05-12T13:02:06.698756Z",
     "shell.execute_reply.started": "2022-05-12T13:02:06.478978Z"
    }
   },
   "outputs": [
    {
     "name": "stdout",
     "output_type": "stream",
     "text": [
      "Score :  0.875\n"
     ]
    },
    {
     "data": {
      "image/png": "[encoded data removed]",
      "text/plain": [
       "<Figure size 432x288 with 2 Axes>"
      ]
     },
     "metadata": {
      "needs_background": "light"
     },
     "output_type": "display_data"
    }
   ],
   "source": [
    "# Plotting of Confusion Matrix of Decision Tree Classifier\n",
    "from matplotlib import pyplot as plt\n",
    "import seaborn as sns\n",
    "from sklearn.metrics import confusion_matrix\n",
    "pred_list = [DTC]\n",
    "\n",
    "for i in pred_list:\n",
    "    print(\"Score : \",i.score(X_test,y_test))\n",
    "    y_pred = i.predict(X_test)\n",
    "    sns.heatmap(confusion_matrix(y_test,y_pred),annot = True)\n",
    "    plt.xlabel(\"Y_pred\")\n",
    "    plt.ylabel(\"Y_test\")\n",
    "    plt.title(i)\n",
    "    plt.show()"
   ]
  },
  {
   "cell_type": "markdown",
   "metadata": {},
   "source": []
  }
 ],
 "metadata": {
  "kernelspec": {
   "display_name": "Python 3",
   "language": "python",
   "name": "python3"
  },
  "language_info": {
   "codemirror_mode": {
    "name": "ipython",
    "version": 3
   },
   "file_extension": ".py",
   "mimetype": "text/x-python",
   "name": "python",
   "nbconvert_exporter": "python",
   "pygments_lexer": "ipython3",
   "version": "3.8.8"
  }
 },
 "nbformat": 4,
 "nbformat_minor": 4
}
